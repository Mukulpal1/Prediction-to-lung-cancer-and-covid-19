{
 "cells": [
  {
   "cell_type": "code",
   "execution_count": 2,
   "metadata": {},
   "outputs": [],
   "source": [
    "# Import necessary libraries\n",
    "import tensorflow as tf\n",
    "from tensorflow.keras.models import Sequential\n",
    "from tensorflow.keras.layers import Conv2D, MaxPooling2D, Flatten, Dense, Dropout\n",
    "from tensorflow.keras.preprocessing.image import ImageDataGenerator"
   ]
  },
  {
   "cell_type": "code",
   "execution_count": 3,
   "metadata": {},
   "outputs": [],
   "source": [
    "# Define constants\n",
    "image_size = (224, 224)  # Adjust the size as needed\n",
    "batch_size = 32\n",
    "epochs = 20"
   ]
  },
  {
   "cell_type": "code",
   "execution_count": 4,
   "metadata": {},
   "outputs": [],
   "source": [
    "# Create a CNN model\n",
    "model = Sequential()\n",
    "\n",
    "# Convolutional layers\n",
    "model.add(Conv2D(32, (3, 3), input_shape=(image_size[0], image_size[1], 3), activation='relu'))\n",
    "model.add(MaxPooling2D(pool_size=(2, 2)))\n",
    "\n",
    "model.add(Conv2D(64, (3, 3), activation='relu'))\n",
    "model.add(MaxPooling2D(pool_size=(2, 2)))\n",
    "\n",
    "model.add(Conv2D(128, (3, 3), activation='relu'))\n",
    "model.add(MaxPooling2D(pool_size=(2, 2)))\n",
    "\n",
    "# Flatten layer\n",
    "model.add(Flatten())"
   ]
  },
  {
   "cell_type": "code",
   "execution_count": 5,
   "metadata": {},
   "outputs": [
    {
     "name": "stderr",
     "output_type": "stream",
     "text": [
      "2023-12-17 14:46:57.466230: W external/local_tsl/tsl/framework/cpu_allocator_impl.cc:83] Allocation of 177209344 exceeds 10% of free system memory.\n",
      "2023-12-17 14:46:57.593528: W external/local_tsl/tsl/framework/cpu_allocator_impl.cc:83] Allocation of 177209344 exceeds 10% of free system memory.\n"
     ]
    },
    {
     "name": "stderr",
     "output_type": "stream",
     "text": [
      "2023-12-17 14:46:57.678108: W external/local_tsl/tsl/framework/cpu_allocator_impl.cc:83] Allocation of 177209344 exceeds 10% of free system memory.\n"
     ]
    }
   ],
   "source": [
    "# Fully connected layers\n",
    "model.add(Dense(512, activation='relu'))\n",
    "model.add(Dropout(0.5))\n",
    "\n",
    "model.add(Dense(1, activation='sigmoid'))  # Binary classification (cancer or non-cancer)"
   ]
  },
  {
   "cell_type": "code",
   "execution_count": 6,
   "metadata": {},
   "outputs": [],
   "source": [
    "# Compile the model\n",
    "model.compile(optimizer='adam', loss='binary_crossentropy', metrics=['accuracy'])"
   ]
  },
  {
   "cell_type": "code",
   "execution_count": 7,
   "metadata": {},
   "outputs": [
    {
     "name": "stdout",
     "output_type": "stream",
     "text": [
      "Model: \"sequential\"\n",
      "_________________________________________________________________\n",
      " Layer (type)                Output Shape              Param #   \n",
      "=================================================================\n",
      " conv2d (Conv2D)             (None, 222, 222, 32)      896       \n",
      "                                                                 \n",
      " max_pooling2d (MaxPooling2  (None, 111, 111, 32)      0         \n",
      " D)                                                              \n",
      "                                                                 \n",
      " conv2d_1 (Conv2D)           (None, 109, 109, 64)      18496     \n",
      "                                                                 \n",
      " max_pooling2d_1 (MaxPoolin  (None, 54, 54, 64)        0         \n",
      " g2D)                                                            \n",
      "                                                                 \n",
      " conv2d_2 (Conv2D)           (None, 52, 52, 128)       73856     \n",
      "                                                                 \n",
      " max_pooling2d_2 (MaxPoolin  (None, 26, 26, 128)       0         \n",
      " g2D)                                                            \n",
      "                                                                 \n",
      " flatten (Flatten)           (None, 86528)             0         \n",
      "                                                                 \n",
      " dense (Dense)               (None, 512)               44302848  \n",
      "                                                                 \n",
      " dropout (Dropout)           (None, 512)               0         \n",
      "                                                                 \n",
      " dense_1 (Dense)             (None, 1)                 513       \n",
      "                                                                 \n",
      "=================================================================\n",
      "Total params: 44396609 (169.36 MB)\n",
      "Trainable params: 44396609 (169.36 MB)\n",
      "Non-trainable params: 0 (0.00 Byte)\n",
      "_________________________________________________________________\n"
     ]
    }
   ],
   "source": [
    "# Display the model summary\n",
    "model.summary()"
   ]
  },
  {
   "cell_type": "code",
   "execution_count": 8,
   "metadata": {},
   "outputs": [],
   "source": [
    "# Data augmentation to generate more training samples\n",
    "train_datagen = ImageDataGenerator(rescale=1./255, shear_range=0.2, zoom_range=0.2, horizontal_flip=True)"
   ]
  },
  {
   "cell_type": "code",
   "execution_count": 9,
   "metadata": {},
   "outputs": [
    {
     "name": "stdout",
     "output_type": "stream",
     "text": [
      "Found 447 images belonging to 2 classes.\n"
     ]
    }
   ],
   "source": [
    "# Load training data\n",
    "train_generator = train_datagen.flow_from_directory(\n",
    "    './datasets/lung_cancer_dataset/',\n",
    "    target_size=image_size,\n",
    "    batch_size=batch_size,\n",
    "    class_mode='binary'  # Binary classification\n",
    ")"
   ]
  },
  {
   "cell_type": "code",
   "execution_count": 11,
   "metadata": {},
   "outputs": [
    {
     "name": "stdout",
     "output_type": "stream",
     "text": [
      "Epoch 1/20\n",
      "14/14 [==============================] - 48s 3s/step - loss: 0.0200 - accuracy: 0.9933\n",
      "Epoch 2/20\n",
      "14/14 [==============================] - 45s 3s/step - loss: 0.0279 - accuracy: 0.9866\n",
      "Epoch 3/20\n",
      "14/14 [==============================] - 45s 3s/step - loss: 0.0274 - accuracy: 0.9888\n",
      "Epoch 4/20\n",
      "14/14 [==============================] - 46s 3s/step - loss: 0.0540 - accuracy: 0.9821\n",
      "Epoch 5/20\n",
      "14/14 [==============================] - 46s 3s/step - loss: 0.0264 - accuracy: 0.9866\n",
      "Epoch 6/20\n",
      "14/14 [==============================] - 46s 3s/step - loss: 0.0315 - accuracy: 0.9955\n",
      "Epoch 7/20\n",
      "14/14 [==============================] - 46s 3s/step - loss: 0.0201 - accuracy: 0.9955\n",
      "Epoch 8/20\n",
      "14/14 [==============================] - 46s 3s/step - loss: 0.0218 - accuracy: 0.9955\n",
      "Epoch 9/20\n",
      "14/14 [==============================] - 52s 4s/step - loss: 0.0221 - accuracy: 0.9888\n",
      "Epoch 10/20\n",
      "14/14 [==============================] - 46s 3s/step - loss: 0.0233 - accuracy: 0.9955\n",
      "Epoch 11/20\n",
      "14/14 [==============================] - 46s 3s/step - loss: 0.0070 - accuracy: 0.9978\n",
      "Epoch 12/20\n",
      "14/14 [==============================] - 46s 3s/step - loss: 0.0082 - accuracy: 0.9978\n",
      "Epoch 13/20\n",
      "14/14 [==============================] - 46s 3s/step - loss: 0.0039 - accuracy: 1.0000\n",
      "Epoch 14/20\n",
      "14/14 [==============================] - 47s 3s/step - loss: 0.0144 - accuracy: 0.9955\n",
      "Epoch 15/20\n",
      "14/14 [==============================] - 45s 3s/step - loss: 0.0076 - accuracy: 1.0000\n",
      "Epoch 16/20\n",
      "14/14 [==============================] - 64s 5s/step - loss: 0.0332 - accuracy: 0.9888\n",
      "Epoch 17/20\n",
      "14/14 [==============================] - 43s 3s/step - loss: 0.0409 - accuracy: 0.9911\n",
      "Epoch 18/20\n",
      "14/14 [==============================] - 44s 3s/step - loss: 0.0293 - accuracy: 0.9866\n",
      "Epoch 19/20\n",
      "14/14 [==============================] - 44s 3s/step - loss: 0.0448 - accuracy: 0.9866\n",
      "Epoch 20/20\n",
      "14/14 [==============================] - 45s 3s/step - loss: 0.0473 - accuracy: 0.9821\n"
     ]
    },
    {
     "data": {
      "text/plain": [
       "<keras.src.callbacks.History at 0x7f84d4542ad0>"
      ]
     },
     "execution_count": 11,
     "metadata": {},
     "output_type": "execute_result"
    }
   ],
   "source": [
    "# Fit the model\n",
    "model.fit(train_generator, epochs=epochs)"
   ]
  },
  {
   "cell_type": "code",
   "execution_count": 12,
   "metadata": {},
   "outputs": [
    {
     "name": "stderr",
     "output_type": "stream",
     "text": [
      "/usr/local/lib/python3.10/dist-packages/keras/src/engine/training.py:3103: UserWarning: You are saving your model as an HDF5 file via `model.save()`. This file format is considered legacy. We recommend using instead the native Keras format, e.g. `model.save('my_model.keras')`.\n",
      "  saving_api.save_model(\n"
     ]
    }
   ],
   "source": [
    "# Save the model\n",
    "model.save('./models/new_lung_cancer_model.h5')"
   ]
  }
 ],
 "metadata": {
  "kernelspec": {
   "display_name": "Python 3",
   "language": "python",
   "name": "python3"
  },
  "language_info": {
   "codemirror_mode": {
    "name": "ipython",
    "version": 3
   },
   "file_extension": ".py",
   "mimetype": "text/x-python",
   "name": "python",
   "nbconvert_exporter": "python",
   "pygments_lexer": "ipython3",
   "version": "3.10.12"
  }
 },
 "nbformat": 4,
 "nbformat_minor": 2
}
